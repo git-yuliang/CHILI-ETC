{
 "cells": [
  {
   "cell_type": "code",
   "execution_count": 1,
   "metadata": {},
   "outputs": [
    {
     "data": {
      "text/plain": [
       "['C:\\\\Users\\\\DELL\\\\OneDrive - EDU A1\\\\git-code\\\\github\\\\CHILI-ETC\\\\REF\\\\REF-jvmt\\\\code',\n",
       " 'C:\\\\Users\\\\DELL\\\\Anaconda3\\\\python37.zip',\n",
       " 'C:\\\\Users\\\\DELL\\\\Anaconda3\\\\DLLs',\n",
       " 'C:\\\\Users\\\\DELL\\\\Anaconda3\\\\lib',\n",
       " 'C:\\\\Users\\\\DELL\\\\Anaconda3',\n",
       " '',\n",
       " 'C:\\\\Users\\\\DELL\\\\AppData\\\\Roaming\\\\Python\\\\Python37\\\\site-packages',\n",
       " 'C:\\\\Users\\\\DELL\\\\Anaconda3\\\\lib\\\\site-packages',\n",
       " 'C:\\\\Users\\\\DELL\\\\Anaconda3\\\\lib\\\\site-packages\\\\aia_mkmovie-0.1.0-py3.7.egg',\n",
       " 'C:\\\\Users\\\\DELL\\\\Anaconda3\\\\lib\\\\site-packages\\\\pytz-2022.1-py3.7.egg',\n",
       " 'C:\\\\Users\\\\DELL\\\\Anaconda3\\\\lib\\\\site-packages\\\\win32',\n",
       " 'C:\\\\Users\\\\DELL\\\\Anaconda3\\\\lib\\\\site-packages\\\\win32\\\\lib',\n",
       " 'C:\\\\Users\\\\DELL\\\\Anaconda3\\\\lib\\\\site-packages\\\\Pythonwin',\n",
       " 'C:\\\\Users\\\\DELL\\\\Anaconda3\\\\lib\\\\site-packages\\\\IPython\\\\extensions',\n",
       " 'C:\\\\Users\\\\DELL\\\\.ipython']"
      ]
     },
     "execution_count": 1,
     "metadata": {},
     "output_type": "execute_result"
    }
   ],
   "source": [
    "import sys\n",
    "sys.path"
   ]
  },
  {
   "cell_type": "code",
   "execution_count": 2,
   "metadata": {},
   "outputs": [],
   "source": [
    "%matplotlib inline\n",
    "from astropy.io import fits\n",
    "import numpy as np\n",
    "import matplotlib.pyplot as plt\n",
    "import pandas as pd\n",
    "from scipy import interpolate\n",
    "from sympy import *\n",
    "import os\n",
    "from scipy.integrate import simps\n",
    "import sys\n",
    "#sys.path.append('../code/')\n"
   ]
  },
  {
   "cell_type": "markdown",
   "metadata": {},
   "source": [
    "# test"
   ]
  },
  {
   "cell_type": "code",
   "execution_count": 3,
   "metadata": {},
   "outputs": [],
   "source": [
    "def filteraa(filtera):\n",
    "    #load the filters          \n",
    "    filtersel=filtera #'../sdss_g0.par'            \n",
    "    filterpath='./'\n",
    "    filterfile=filterpath+filtersel   # ;fluxfilter: max=1, min=0, no particular unit\n",
    "    print(filterfile)   \n",
    "\n",
    "    ia=0\n",
    "    with open(filterfile,'r') as fh:\n",
    "        for line in fh:\n",
    "            if line.startswith('#'):\n",
    "                ia=ia+1\n",
    "                continue\n",
    "\n",
    "    band=pd.read_csv(filterfile,sep='\\s+',header=None,skiprows=ia)\n",
    "    wavefilter=np.array(band[0])\n",
    "    fluxfilter=np.array(band[1])\n",
    "    wavefilter=wavefilter  # A\n",
    "    vmin=wavefilter[0]\n",
    "    vmax=wavefilter[-1]\n",
    "\n",
    "    # find the central wavelength, effective wavelength, and FWHM of the given filter\n",
    "    filtermid=(vmax-vmin)*0.5  #A, central wavelength\n",
    "    dwave=wavefilter[1:]-wavefilter[:-1]\n",
    "    filtereff=np.nansum(dwave*wavefilter[1:]*fluxfilter[1:])/np.nansum(dwave*fluxfilter[1:]) #A, effective wavelength\n",
    "    rmax=np.max(fluxfilter)\n",
    "    nnn=np.where(fluxfilter > 0.5*rmax)[0]\n",
    "    FWHMmin=wavefilter[nnn[0]]\n",
    "    FWHMmax=wavefilter[nnn[-1]]\n",
    "    filterwid=FWHMmax-FWHMmin  #A, FWHM\n",
    "\n",
    "    return wavefilter,fluxfilter,vmin,vmax,filtereff,FWHMmin,FWHMmax"
   ]
  },
  {
   "cell_type": "code",
   "execution_count": 4,
   "metadata": {},
   "outputs": [],
   "source": [
    "def input_mag_model(targetmag,galtpl,filtera,dlambda,a,b):\n",
    "\n",
    "    #filter\n",
    "    resulte=filteraa(filtera)\n",
    "    wavefilter=resulte[0]\n",
    "    fluxfilter=resulte[1]\n",
    "    vmin=resulte[2]\n",
    "    vmax=resulte[3]\n",
    "    filtereff=resulte[4]\n",
    "\n",
    "    ####################################################################################\n",
    "    # define wavelength array,\n",
    "    #cover the range of 350nm to 1050nm, depend on the spectral resolution wanted. \n",
    "\n",
    "    delta_lambda=dlambda # has to be in unit of A\n",
    "    print('delta_lambda:', delta_lambda)\n",
    "\n",
    "    narray=int((b-a)/delta_lambda) \n",
    "    wavearr=a+delta_lambda*np.float64(np.arange(narray))\n",
    "    # select out the array of V band filter\n",
    "    ii=np.logical_and(wavearr >= vmin, wavearr <= vmax)\n",
    "    wavetmp2=wavearr[ii]\n",
    "    x=np.interp(wavetmp2,wavefilter,fluxfilter)\n",
    "    integratef4=x*wavetmp2\n",
    "    integconst=simps(integratef4,wavetmp2) # int(lambda*Rlambda*dlambda)\n",
    "\n",
    "    lambdav=filtereff #A\n",
    "    ###############################################################\n",
    "    # define basic target brightness, parameters constantly change\n",
    "    itarget=targetmag    # in Johnson V mag/arcsec^2 unit\n",
    "    print('itarget:',itarget)\n",
    "\n",
    "    itarget_jy=3631.0*10**(-itarget/2.5+3.0)  # target flux in V in mJy/arcsec^2 unit\n",
    "    itarget_nm=itarget_jy*3.0/(lambdav/100.0)**2 #target flux in V in 10^(-12)erg/s/cm^2/A (/arcsec^2 ?)\n",
    "\n",
    "    galtpl=galtpl\n",
    "    tplfile=galtpl\n",
    "    print('tplfile:',tplfile)   \n",
    "\n",
    "    sfgal=fits.open(tplfile)\n",
    "    wavegal=sfgal[1].data['wavelength'] # A\n",
    "    galflux2=sfgal[1].data['flux']\n",
    "    galflux1=np.interp(wavearr,wavegal,galflux2)\n",
    "\n",
    "    #;normalize the galaxy spectrum to the V band magnitude specified.\n",
    "    ii=np.logical_and(wavegal >= vmin, wavegal <= vmax)\n",
    "    wavetmp=wavegal[ii]\n",
    "    fluxtmp=galflux2[ii]\n",
    "    x=np.interp(wavetmp,wavefilter,fluxfilter)\n",
    "    vfluxtmp=x*wavetmp*fluxtmp #bandpass*lambda*F_gal_lambda\n",
    "    galintegrate=simps(vfluxtmp,wavetmp)\n",
    "    galnorm=itarget_nm*integconst/galintegrate\n",
    "    galflux=galnorm*galflux1   # the unit should now be in 10^(-12)erg/s/A/cm^2 (/arcsec^2 ?)\n",
    "\n",
    "    return wavearr, galflux"
   ]
  },
  {
   "cell_type": "code",
   "execution_count": 5,
   "metadata": {},
   "outputs": [],
   "source": [
    "skyr=21.0\n",
    "iskyr0=skyr"
   ]
  },
  {
   "cell_type": "code",
   "execution_count": 6,
   "metadata": {},
   "outputs": [
    {
     "name": "stdout",
     "output_type": "stream",
     "text": [
      "./../obs/filters/sdss_g0.par\n",
      "delta_lambda: 1.3\n",
      "itarget: 21.438\n",
      "tplfile: ../obs/SFgal_tpl/SFgal_texp_FeH-2_tau10_Ew50.fits\n"
     ]
    }
   ],
   "source": [
    "targetmag=21.438\n",
    "galtpl='../obs/SFgal_tpl/SFgal_texp_FeH-2_tau10_Ew50.fits'\n",
    "filtera='../obs/filters/sdss_g0.par'\n",
    "\n",
    "'''\n",
    "result_r=input_mag_model(targetmag,galtpl,filtera,0.98,3490.71,5500)\n",
    "wavearr_r=result_r[0]   #A\n",
    "galflux_r=result_r[1]   #10^-12 erg/s/A/cm2   \n",
    "\n",
    "'''\n",
    "result_r=input_mag_model(targetmag,galtpl,filtera,1.30,4579.30,7500)\n",
    "wavearr_r=result_r[0]   #A\n",
    "galflux_r=result_r[1]   #10^-12 erg/s/A/cm2   \n",
    "      "
   ]
  },
  {
   "cell_type": "code",
   "execution_count": 7,
   "metadata": {},
   "outputs": [
    {
     "name": "stdout",
     "output_type": "stream",
     "text": [
      "./../obs/filters/sdss_g0.par\n",
      "delta_lambda: 1.3\n"
     ]
    }
   ],
   "source": [
    "targetmag=21.438\n",
    "galtpl='../obs/SFgal_tpl/SFgal_texp_FeH-2_tau10_Ew50.fits'\n",
    "filtera='../obs/filters/sdss_g0.par'\n",
    "\n",
    "targetmag,galtpl,filtera,dlambda,a,b=targetmag,galtpl,filtera,1.30,4579.30,7500\n",
    "resulte=filteraa(filtera)\n",
    "wavefilter=resulte[0]\n",
    "fluxfilter=resulte[1]\n",
    "vmin=resulte[2]\n",
    "vmax=resulte[3]\n",
    "filtereff=resulte[4]\n",
    "\n",
    "####################################################################################\n",
    "# define wavelength array,\n",
    "#cover the range of 350nm to 1050nm, depend on the spectral resolution wanted. \n",
    "\n",
    "delta_lambda=dlambda # has to be in unit of A\n",
    "print('delta_lambda:', delta_lambda)\n",
    "\n",
    "narray=int((b-a)/delta_lambda) \n",
    "wavearr=a+delta_lambda*np.float64(np.arange(narray))\n",
    "\n",
    "# select out the array of V band filter\n",
    "wavearr1=np.arange(3000,10000,step=dlambda)\n",
    "ii=np.logical_and(wavearr1 >= vmin, wavearr1 <= vmax)\n",
    "wavetmp2=wavearr1[ii]\n",
    "x=np.interp(wavetmp2,wavefilter,fluxfilter)\n",
    "integratef4=x*wavetmp2\n",
    "integconst=simps(integratef4,wavetmp2) # int(lambda*Rlambda*dlambda)\n",
    "\n",
    "lambdar=filtereff #A"
   ]
  },
  {
   "cell_type": "code",
   "execution_count": 8,
   "metadata": {},
   "outputs": [
    {
     "name": "stdout",
     "output_type": "stream",
     "text": [
      "itarget: 21.438\n",
      "tplfile: ../obs/SFgal_tpl/SFgal_texp_FeH-2_tau10_Ew50.fits\n"
     ]
    }
   ],
   "source": [
    "# define basic target brightness, parameters constantly change\n",
    "itarget=targetmag    # in Johnson g mag/arcsec^2 unit\n",
    "print('itarget:',itarget)\n",
    "\n",
    "itarget_jy=3631.0*10**(-itarget/2.5+3.0)  # target flux in g in mJy/arcsec^2 unit\n",
    "itarget_nm=itarget_jy*3.0/(lambdar/100.0)**2 #target flux in g in 10^(-12)erg/s/cm^2/A (/arcsec^2 ?)\n",
    "\n",
    "tplfile=galtpl\n",
    "print('tplfile:',tplfile)   \n",
    "\n",
    "sfgal=fits.open(tplfile)\n",
    "wavegal=sfgal[1].data['wavelength'] # A\n",
    "galflux2=sfgal[1].data['flux']\n",
    "galflux1=np.interp(wavearr1,wavegal,galflux2)\n",
    "\n",
    "#;normalize the galaxy spectrum to the r band magnitude specified.\n",
    "ii=np.logical_and(wavegal >= vmin, wavegal <= vmax)\n",
    "wavetmp=wavegal[ii]\n",
    "fluxtmp=galflux2[ii]\n",
    "x=np.interp(wavetmp,wavefilter,fluxfilter)\n",
    "vfluxtmp=x*wavetmp*fluxtmp #bandpass*lambda*F_gal_lambda\n",
    "galintegrate=simps(vfluxtmp,wavetmp)\n",
    "galnorm=itarget_nm*integconst/galintegrate\n",
    "galflux1=galnorm*galflux1   # the unit should now be in 10^(-12)erg/s/A/cm^2 (/arcsec^2 ?)\n",
    "\n",
    "galflux=np.interp(wavearr,wavearr1,galflux1)"
   ]
  },
  {
   "cell_type": "code",
   "execution_count": 9,
   "metadata": {},
   "outputs": [],
   "source": [
    "n,m=wavearr_r,galflux_r"
   ]
  },
  {
   "cell_type": "code",
   "execution_count": 10,
   "metadata": {
    "scrolled": true
   },
   "outputs": [
    {
     "data": {
      "text/plain": [
       "[<matplotlib.lines.Line2D at 0x1d548899648>]"
      ]
     },
     "execution_count": 10,
     "metadata": {},
     "output_type": "execute_result"
    },
    {
     "data": {
      "image/png": "[encoded data removed]",
      "text/plain": [
       "<Figure size 432x288 with 1 Axes>"
      ]
     },
     "metadata": {
      "needs_background": "light"
     },
     "output_type": "display_data"
    }
   ],
   "source": [
    "plt.plot(wavearr,galflux)\n",
    "plt.plot(n,m)\n"
   ]
  },
  {
   "cell_type": "code",
   "execution_count": 11,
   "metadata": {},
   "outputs": [
    {
     "name": "stdout",
     "output_type": "stream",
     "text": [
      "./../obs/filters/sdss_r0.par\n"
     ]
    }
   ],
   "source": [
    "resulte=filteraa('../obs/filters/sdss_r0.par')\n",
    "wavefilter=resulte[0]\n",
    "fluxfilter=resulte[1]\n",
    "vmin=resulte[2]\n",
    "vmax=resulte[3]\n",
    "filtereff=resulte[4]\n",
    "FWHMmin = resulte[5]\n",
    "FWHMmax = resulte[6]\n",
    "\n",
    "lambdar=filtereff   #in A\n",
    "\n",
    "#sky brightness corresponding to this sky magnitude\n",
    "iskyr0_jy=3631.0*10**(-iskyr0/2.5+3.0)  # sky flux in r in mJy/arcsec^2 unit\n",
    "iskyr0_nm=iskyr0_jy*3.0/(lambdar/100.0)**2 #sky flux in r in 10^(-12)erg/s/cm^2/A (/arcsec^2 ?)\n",
    "\n",
    "#readin the ground sky spectrum \n",
    "skybg_50=pd.read_csv('../obs/skybg_50_10.dat',sep='\\s+',header=None,skiprows=14)\n",
    "wavesky=np.array(skybg_50[0])*10 #in A\n",
    "fluxsky1=np.array(skybg_50[1])/10 #phot/s/A/arcsec^2/m^2\n",
    "fluxsky2=fluxsky1/wavesky*1.98 #change the sky flux unit to 10^(-12)erg/s/cm^2/A/arcsec^2\n",
    "\n",
    "ii=np.logical_and(wavesky >= vmin, wavesky <= vmax)\n",
    "wavetmp=wavesky[ii]\n",
    "fluxtmp=fluxsky1[ii]\n",
    "             "
   ]
  },
  {
   "cell_type": "code",
   "execution_count": 12,
   "metadata": {},
   "outputs": [
    {
     "data": {
      "text/plain": [
       "1.13570265230221e-05"
      ]
     },
     "execution_count": 12,
     "metadata": {},
     "output_type": "execute_result"
    }
   ],
   "source": [
    "iskyr0_nm"
   ]
  },
  {
   "cell_type": "code",
   "execution_count": 13,
   "metadata": {},
   "outputs": [],
   "source": [
    "targetmag,galtpl,filtera,dlambda,a,b=targetmag,galtpl,filtera,0.98,3490.71,5500"
   ]
  },
  {
   "cell_type": "code",
   "execution_count": 14,
   "metadata": {},
   "outputs": [],
   "source": [
    "narray=int((b-a)/delta_lambda) \n",
    "wavearr=a+delta_lambda*np.float64(np.arange(narray))"
   ]
  },
  {
   "cell_type": "code",
   "execution_count": 15,
   "metadata": {},
   "outputs": [],
   "source": [
    "# select out the array of r band filter\n",
    "wavearr1=np.arange(3000,10000,step=dlambda)\n",
    "\n",
    "ii=np.logical_and(wavearr1 >= vmin, wavearr1 <= vmax)\n",
    "wavetmp2_r=wavearr1[ii]\n",
    "x_r=np.interp(wavetmp2_r,wavefilter,fluxfilter)\n",
    "integratef4_r=x_r*wavetmp2_r   \n",
    "integconst_r=simps(integratef4_r,wavetmp2_r) # int(lambda*Rlambda*dlambda)\n",
    "\n",
    "#####################################################################\n",
    "\n",
    "#define r band sky brightness\n",
    "x=np.interp(wavetmp,wavefilter,fluxfilter)\n",
    "vfluxtmp=x*fluxtmp*1.98\n",
    "skyintegrate=simps( vfluxtmp,wavetmp)\n",
    "skynorm=iskyr0_nm*integconst_r/skyintegrate \n",
    "fluxsky3=np.interp(wavearr1,wavesky,fluxsky2)\n",
    "fluxsky4=fluxsky3*skynorm\n",
    "# get the sky spectrum in wavearr grid, the unit should now be the same as fluxvega: 10^(-12) erg/s/A/cm^2  (/arcsec^2 ?)\n",
    "fluxskypp=np.interp(wavearr,wavearr1,fluxsky4) "
   ]
  },
  {
   "cell_type": "code",
   "execution_count": 16,
   "metadata": {},
   "outputs": [
    {
     "data": {
      "text/plain": [
       "4827973.4700672375"
      ]
     },
     "execution_count": 16,
     "metadata": {},
     "output_type": "execute_result"
    }
   ],
   "source": [
    "integconst_r"
   ]
  },
  {
   "cell_type": "code",
   "execution_count": 17,
   "metadata": {
    "scrolled": true
   },
   "outputs": [
    {
     "data": {
      "text/plain": [
       "4827973.4700672375"
      ]
     },
     "execution_count": 17,
     "metadata": {},
     "output_type": "execute_result"
    }
   ],
   "source": [
    "integconst_r"
   ]
  },
  {
   "cell_type": "code",
   "execution_count": 19,
   "metadata": {},
   "outputs": [
    {
     "ename": "NameError",
     "evalue": "name 'fluxsky' is not defined",
     "output_type": "error",
     "traceback": [
      "\u001b[1;31m---------------------------------------------------------------------------\u001b[0m",
      "\u001b[1;31mNameError\u001b[0m                                 Traceback (most recent call last)",
      "\u001b[1;32m~\\AppData\\Local\\Temp\\ipykernel_9016\\3668560686.py\u001b[0m in \u001b[0;36m<module>\u001b[1;34m\u001b[0m\n\u001b[1;32m----> 1\u001b[1;33m \u001b[0ma\u001b[0m\u001b[1;33m,\u001b[0m\u001b[0mb\u001b[0m\u001b[1;33m=\u001b[0m\u001b[0mwavearr_r\u001b[0m\u001b[1;33m,\u001b[0m\u001b[0mfluxsky\u001b[0m\u001b[1;33m\u001b[0m\u001b[1;33m\u001b[0m\u001b[0m\n\u001b[0m",
      "\u001b[1;31mNameError\u001b[0m: name 'fluxsky' is not defined"
     ]
    }
   ],
   "source": [
    "a,b=wavearr_r,fluxsky"
   ]
  },
  {
   "cell_type": "code",
   "execution_count": 20,
   "metadata": {
    "scrolled": true
   },
   "outputs": [
    {
     "ename": "NameError",
     "evalue": "name 'fluxsky' is not defined",
     "output_type": "error",
     "traceback": [
      "\u001b[1;31m---------------------------------------------------------------------------\u001b[0m",
      "\u001b[1;31mNameError\u001b[0m                                 Traceback (most recent call last)",
      "\u001b[1;32m~\\AppData\\Local\\Temp\\ipykernel_9016\\2664182282.py\u001b[0m in \u001b[0;36m<module>\u001b[1;34m\u001b[0m\n\u001b[0;32m      1\u001b[0m \u001b[1;31m#plt.plot(a,b)\u001b[0m\u001b[1;33m\u001b[0m\u001b[1;33m\u001b[0m\u001b[1;33m\u001b[0m\u001b[0m\n\u001b[1;32m----> 2\u001b[1;33m \u001b[0mplt\u001b[0m\u001b[1;33m.\u001b[0m\u001b[0mplot\u001b[0m\u001b[1;33m(\u001b[0m\u001b[0mwavearr_r\u001b[0m\u001b[1;33m,\u001b[0m\u001b[0mfluxsky\u001b[0m\u001b[1;33m)\u001b[0m\u001b[1;33m\u001b[0m\u001b[1;33m\u001b[0m\u001b[0m\n\u001b[0m\u001b[0;32m      3\u001b[0m \u001b[1;31m#plt.xlim(5250,7250)\u001b[0m\u001b[1;33m\u001b[0m\u001b[1;33m\u001b[0m\u001b[1;33m\u001b[0m\u001b[0m\n\u001b[0;32m      4\u001b[0m \u001b[1;31m#plt.plot(wavetmp,fluxtmp)\u001b[0m\u001b[1;33m\u001b[0m\u001b[1;33m\u001b[0m\u001b[1;33m\u001b[0m\u001b[0m\n",
      "\u001b[1;31mNameError\u001b[0m: name 'fluxsky' is not defined"
     ]
    }
   ],
   "source": [
    "#plt.plot(a,b)\n",
    "plt.plot(wavearr_r,fluxsky)\n",
    "#plt.xlim(5250,7250)\n",
    "#plt.plot(wavetmp,fluxtmp)"
   ]
  },
  {
   "cell_type": "code",
   "execution_count": 105,
   "metadata": {},
   "outputs": [
    {
     "data": {
      "text/plain": [
       "[<matplotlib.lines.Line2D at 0x7f3266bd9490>]"
      ]
     },
     "execution_count": 105,
     "metadata": {},
     "output_type": "execute_result"
    },
    {
     "data": {
      "image/png": "[encoded data removed]",
      "text/plain": [
       "<Figure size 432x288 with 1 Axes>"
      ]
     },
     "metadata": {
      "needs_background": "light"
     },
     "output_type": "display_data"
    }
   ],
   "source": [
    "plt.plot(wavearr,fluxskypp)"
   ]
  },
  {
   "cell_type": "code",
   "execution_count": 123,
   "metadata": {},
   "outputs": [
    {
     "data": {
      "text/plain": [
       "(0.04, 0.1)"
      ]
     },
     "execution_count": 123,
     "metadata": {},
     "output_type": "execute_result"
    },
    {
     "data": {
      "image/png": "[encoded data removed]",
      "text/plain": [
       "<Figure size 432x288 with 1 Axes>"
      ]
     },
     "metadata": {
      "needs_background": "light"
     },
     "output_type": "display_data"
    }
   ],
   "source": [
    "plt.plot(wavesky,fluxsky1)\n",
    "plt.xlim(3500,5500)\n",
    "plt.ylim(0.04,0.1)"
   ]
  },
  {
   "cell_type": "code",
   "execution_count": 117,
   "metadata": {},
   "outputs": [],
   "source": [
    "aaa=np.arange(40*10).reshape(40,10)"
   ]
  },
  {
   "cell_type": "code",
   "execution_count": 119,
   "metadata": {},
   "outputs": [
    {
     "data": {
      "text/plain": [
       "array([[  0,   1,   2,   3,   4,   5,   6,   7,   8,   9],\n",
       "       [ 10,  11,  12,  13,  14,  15,  16,  17,  18,  19],\n",
       "       [ 20,  21,  22,  23,  24,  25,  26,  27,  28,  29],\n",
       "       [ 30,  31,  32,  33,  34,  35,  36,  37,  38,  39],\n",
       "       [ 40,  41,  42,  43,  44,  45,  46,  47,  48,  49],\n",
       "       [ 50,  51,  52,  53,  54,  55,  56,  57,  58,  59],\n",
       "       [ 60,  61,  62,  63,  64,  65,  66,  67,  68,  69],\n",
       "       [ 70,  71,  72,  73,  74,  75,  76,  77,  78,  79],\n",
       "       [ 80,  81,  82,  83,  84,  85,  86,  87,  88,  89],\n",
       "       [ 90,  91,  92,  93,  94,  95,  96,  97,  98,  99],\n",
       "       [100, 101, 102, 103, 104, 105, 106, 107, 108, 109],\n",
       "       [110, 111, 112, 113, 114, 115, 116, 117, 118, 119],\n",
       "       [120, 121, 122, 123, 124, 125, 126, 127, 128, 129],\n",
       "       [130, 131, 132, 133, 134, 135, 136, 137, 138, 139],\n",
       "       [140, 141, 142, 143, 144, 145, 146, 147, 148, 149],\n",
       "       [150, 151, 152, 153, 154, 155, 156, 157, 158, 159],\n",
       "       [160, 161, 162, 163, 164, 165, 166, 167, 168, 169],\n",
       "       [170, 171, 172, 173, 174, 175, 176, 177, 178, 179],\n",
       "       [180, 181, 182, 183, 184, 185, 186, 187, 188, 189],\n",
       "       [190, 191, 192, 193, 194, 195, 196, 197, 198, 199],\n",
       "       [200, 201, 202, 203, 204, 205, 206, 207, 208, 209],\n",
       "       [210, 211, 212, 213, 214, 215, 216, 217, 218, 219],\n",
       "       [220, 221, 222, 223, 224, 225, 226, 227, 228, 229],\n",
       "       [230, 231, 232, 233, 234, 235, 236, 237, 238, 239],\n",
       "       [240, 241, 242, 243, 244, 245, 246, 247, 248, 249],\n",
       "       [250, 251, 252, 253, 254, 255, 256, 257, 258, 259],\n",
       "       [260, 261, 262, 263, 264, 265, 266, 267, 268, 269],\n",
       "       [270, 271, 272, 273, 274, 275, 276, 277, 278, 279],\n",
       "       [280, 281, 282, 283, 284, 285, 286, 287, 288, 289],\n",
       "       [290, 291, 292, 293, 294, 295, 296, 297, 298, 299],\n",
       "       [300, 301, 302, 303, 304, 305, 306, 307, 308, 309],\n",
       "       [310, 311, 312, 313, 314, 315, 316, 317, 318, 319],\n",
       "       [320, 321, 322, 323, 324, 325, 326, 327, 328, 329],\n",
       "       [330, 331, 332, 333, 334, 335, 336, 337, 338, 339],\n",
       "       [340, 341, 342, 343, 344, 345, 346, 347, 348, 349],\n",
       "       [350, 351, 352, 353, 354, 355, 356, 357, 358, 359],\n",
       "       [360, 361, 362, 363, 364, 365, 366, 367, 368, 369],\n",
       "       [370, 371, 372, 373, 374, 375, 376, 377, 378, 379],\n",
       "       [380, 381, 382, 383, 384, 385, 386, 387, 388, 389],\n",
       "       [390, 391, 392, 393, 394, 395, 396, 397, 398, 399]])"
      ]
     },
     "execution_count": 119,
     "metadata": {},
     "output_type": "execute_result"
    }
   ],
   "source": [
    "aaa"
   ]
  },
  {
   "cell_type": "code",
   "execution_count": null,
   "metadata": {},
   "outputs": [],
   "source": []
  }
 ],
 "metadata": {
  "kernelspec": {
   "display_name": "Python 3 (ipykernel)",
   "language": "python",
   "name": "python3"
  },
  "language_info": {
   "codemirror_mode": {
    "name": "ipython",
    "version": 3
   },
   "file_extension": ".py",
   "mimetype": "text/x-python",
   "name": "python",
   "nbconvert_exporter": "python",
   "pygments_lexer": "ipython3",
   "version": "3.7.13"
  }
 },
 "nbformat": 4,
 "nbformat_minor": 2
}
