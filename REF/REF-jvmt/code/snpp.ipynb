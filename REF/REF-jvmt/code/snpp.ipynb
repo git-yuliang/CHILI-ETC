{
 "cells": [
  {
   "cell_type": "code",
   "execution_count": 1,
   "metadata": {},
   "outputs": [
    {
     "data": {
      "text/plain": [
       "['/share/home/jvmt/CSST/SNPP/chili/1.11alpha/code',\n",
       " '/share/home/jvmt/anaconda3_7/lib/python37.zip',\n",
       " '/share/home/jvmt/anaconda3_7/lib/python3.7',\n",
       " '/share/home/jvmt/anaconda3_7/lib/python3.7/lib-dynload',\n",
       " '',\n",
       " '/share/home/jvmt/anaconda3_7/lib/python3.7/site-packages',\n",
       " '/share/home/jvmt/anaconda3_7/lib/python3.7/site-packages/IPython/extensions',\n",
       " '/share/home/jvmt/.ipython']"
      ]
     },
     "execution_count": 1,
     "metadata": {},
     "output_type": "execute_result"
    }
   ],
   "source": [
    "import sys\n",
    "sys.path"
   ]
  },
  {
   "cell_type": "code",
   "execution_count": 2,
   "metadata": {},
   "outputs": [],
   "source": [
    "%matplotlib inline\n",
    "from astropy.io import fits\n",
    "import numpy as np\n",
    "import matplotlib.pyplot as plt\n",
    "import pylab as pl\n",
    "import matplotlib\n",
    "import pandas as pd\n",
    "from scipy import interpolate\n",
    "import os\n",
    "from scipy.integrate import simps"
   ]
  },
  {
   "cell_type": "markdown",
   "metadata": {},
   "source": [
    "## B.1.读取不同波段透光率\n",
    "## calculate filter"
   ]
  },
  {
   "cell_type": "code",
   "execution_count": 3,
   "metadata": {},
   "outputs": [],
   "source": [
    "def filteraa(filtera):\n",
    "    #load the filters          \n",
    "    filtersel=filtera #'../sdss_g0.par'            \n",
    "    filterpath='./'\n",
    "    filterfile=filterpath+filtersel   # ;fluxfilter: max=1, min=0, no particular unit\n",
    "    print(filterfile)   \n",
    "\n",
    "    ia=0\n",
    "    with open(filterfile,'r') as fh:\n",
    "        for line in fh:\n",
    "            if line.startswith('#'):\n",
    "                ia=ia+1\n",
    "                continue\n",
    "\n",
    "    band=pd.read_csv(filterfile,sep='\\s+',header=None,skiprows=ia)\n",
    "    wavefilter=np.array(band[0])\n",
    "    fluxfilter=np.array(band[1])\n",
    "    wavefilter=wavefilter  # A\n",
    "    vmin=wavefilter[0]\n",
    "    vmax=wavefilter[-1]\n",
    "\n",
    "    # find the central wavelength, effective wavelength, and FWHM of the given filter\n",
    "    filtermid=(vmax-vmin)*0.5  #A, central wavelength\n",
    "    dwave=wavefilter[1:]-wavefilter[:-1]\n",
    "    filtereff=np.nansum(dwave*wavefilter[1:]*fluxfilter[1:])/np.nansum(dwave*fluxfilter[1:]) #A, effective wavelength\n",
    "    rmax=np.max(fluxfilter)\n",
    "    nnn=np.where(fluxfilter > 0.5*rmax)[0]\n",
    "    FWHMmin=wavefilter[nnn[0]]\n",
    "    FWHMmax=wavefilter[nnn[-1]]\n",
    "    filterwid=FWHMmax-FWHMmin  #A, FWHM\n",
    "\n",
    "    return wavefilter,fluxfilter,vmin,vmax,filtereff,FWHMmin,FWHMmax"
   ]
  },
  {
   "cell_type": "markdown",
   "metadata": {},
   "source": [
    "## B.2.采用我们提供的模板，生成适应CSST-IFU波长流量\n",
    "## input_mag_model"
   ]
  },
  {
   "cell_type": "code",
   "execution_count": 40,
   "metadata": {},
   "outputs": [],
   "source": [
    "#select input parameters\n",
    "def input_mag_model(targetmag,galtpl,filtera,dlambda,a,b):\n",
    "\n",
    "    #filter\n",
    "    resulte=filteraa(filtera)\n",
    "    wavefilter=resulte[0]\n",
    "    fluxfilter=resulte[1]\n",
    "    vmin=resulte[2]\n",
    "    vmax=resulte[3]\n",
    "    filtereff=resulte[4]\n",
    "\n",
    "    ####################################################################################\n",
    "    # define wavelength array,\n",
    "    #cover the range of 350nm to 1050nm, depend on the spectral resolution wanted. \n",
    "\n",
    "    delta_lambda=dlambda # has to be in unit of A\n",
    "    print('delta_lambda:', delta_lambda)\n",
    "    \n",
    "    narray=int((b-a)/delta_lambda) \n",
    "    wavearr=a+delta_lambda*np.float64(np.arange(narray))\n",
    "    \n",
    "    # select out the array of V band filter\n",
    "    nar=int((10000-3500)/delta_lambda) \n",
    "    wavearr1=3500+delta_lambda*np.float64(np.arange(nar))\n",
    "    \n",
    "    ii=np.logical_and(wavearr1 >= vmin, wavearr1 <= vmax)\n",
    "    wavetmp2=wavearr1[ii]\n",
    "    x=np.interp(wavetmp2,wavefilter,fluxfilter)\n",
    "    integratef4=x*wavetmp2\n",
    "    integconst=simps(integratef4,wavetmp2) # int(lambda*Rlambda*dlambda)\n",
    "\n",
    "    lambdav=filtereff #A\n",
    "    ###############################################################\n",
    "    # define basic target brightness, parameters constantly change\n",
    "    itarget=targetmag    # in Johnson V mag/arcsec^2 unit\n",
    "    print('itarget:',itarget)\n",
    "\n",
    "    itarget_jy=3631.0*10**(-itarget/2.5+3.0)  # target flux in V in mJy/arcsec^2 unit\n",
    "    itarget_nm=itarget_jy*3.0/(lambdav/100.0)**2 #target flux in V in 10^(-12)erg/s/cm^2/A/arcsec^2 \n",
    "\n",
    "    tplfile=galtpl\n",
    "    print('tplfile:',tplfile)   \n",
    "\n",
    "    sfgal=fits.open(tplfile)\n",
    "    wavegal=sfgal[1].data['wavelength'] # A\n",
    "    galflux2=sfgal[1].data['flux']\n",
    "    galflux1=np.interp(wavearr1,wavegal,galflux2)\n",
    "\n",
    "    #;normalize the galaxy spectrum to the V band magnitude specified.\n",
    "    ii=np.logical_and(wavegal >= vmin, wavegal <= vmax)\n",
    "    wavetmp=wavegal[ii]\n",
    "    fluxtmp=galflux2[ii]\n",
    "    x=np.interp(wavetmp,wavefilter,fluxfilter)\n",
    "    vfluxtmp=x*wavetmp*fluxtmp #bandpass*lambda*F_gal_lambda\n",
    "    galintegrate=simps(vfluxtmp,wavetmp)\n",
    "    galnorm=itarget_nm*integconst/galintegrate\n",
    "    galflux1=galnorm*galflux1   # the unit should now be in 10^(-12)erg/s/A/cm^2/arcsec^2 \n",
    "    \n",
    "    #galflux=np.interp(wavearr,wavearr1,galflux1)\n",
    "    galflux=galflux1\n",
    "    \n",
    "    return wavearr, galflux, wavearr1"
   ]
  },
  {
   "cell_type": "markdown",
   "metadata": {},
   "source": [
    "## B.3.采用自己提供谱型流量的方式，生成适应CSST-IFU波长流量 \n",
    "## input_wave_flux"
   ]
  },
  {
   "cell_type": "code",
   "execution_count": 41,
   "metadata": {},
   "outputs": [],
   "source": [
    "# select put in wave and flux\n",
    "def input_wave_flux(wave,flux,dlambda):\n",
    "\n",
    "    wave=wave\n",
    "    flux=flux\n",
    "    delta_lambda=dlambda\n",
    "    narray=int((wave[-1]-wave[0])/delta_lambda) \n",
    "    wavearr=wave[0]+delta_lambda*np.float64(np.arange(narray))\n",
    "\n",
    "    galflux=np.interp(wavearr,wave,flux)      #erg/s/A/cm2/arcsec^2\n",
    "\n",
    "    return wavearr, galflux*10**12    #10^(-12)erg/s/A/cm^2/arcsec^2\n"
   ]
  },
  {
   "cell_type": "markdown",
   "metadata": {},
   "source": [
    "## B.4. 输入模板参数，生成波长流量"
   ]
  },
  {
   "cell_type": "code",
   "execution_count": 73,
   "metadata": {},
   "outputs": [
    {
     "name": "stdout",
     "output_type": "stream",
     "text": [
      "./../obs/filters/sdss_g0.par\n",
      "delta_lambda: 0.98\n",
      "itarget: 21.438\n",
      "tplfile: ../obs/SFgal_tpl/SFgal_texp_FeH-2_tau10_Ew50.fits\n"
     ]
    },
    {
     "data": {
      "text/plain": [
       "\"\\nfilee=fits.open('/usr/local/ifspip/CSSTMock-NGC10-FOV10R0.1.fits')\\nfil=filee[1].data[20:80,20:80]\\nfluxx=fil[30,30,:]*100*10**-17  #erg/s/A/cm2/arcsec2 \\nwavee=filee[2].data    #A\\n\\nresult=input_wave_flux(wavee,fluxx)\\nwavearr=result[0]  #A\\ngalflux=result[1]  #10^-12 erg/s/A/cm2/arcsec2\\n\""
      ]
     },
     "execution_count": 73,
     "metadata": {},
     "output_type": "execute_result"
    }
   ],
   "source": [
    "targetmag=21.438  #mag/arcsec2\n",
    "galtpl='../obs/SFgal_tpl/SFgal_texp_FeH-2_tau10_Ew50.fits'\n",
    "filtera='../obs/filters/sdss_g0.par'\n",
    "\n",
    "result=input_mag_model(targetmag,galtpl,filtera,0.98,3490.71,5500.)\n",
    "wavearr=result[0]   #A\n",
    "galflux=result[1]   #10^-12 erg/s/A/cm2   \n",
    "\n",
    "\n",
    "'''\n",
    "filee=fits.open('/usr/local/ifspip/CSSTMock-NGC10-FOV10R0.1.fits')\n",
    "fil=filee[1].data[20:80,20:80]\n",
    "fluxx=fil[30,30,:]*100*10**-17  #erg/s/A/cm2/arcsec2 \n",
    "wavee=filee[2].data    #A\n",
    "\n",
    "result=input_wave_flux(wavee,fluxx)\n",
    "wavearr=result[0]  #A\n",
    "galflux=result[1]  #10^-12 erg/s/A/cm2/arcsec2\n",
    "'''"
   ]
  },
  {
   "cell_type": "code",
   "execution_count": 74,
   "metadata": {},
   "outputs": [
    {
     "data": {
      "text/plain": [
       "6632"
      ]
     },
     "execution_count": 74,
     "metadata": {},
     "output_type": "execute_result"
    }
   ],
   "source": [
    "len(galflux)"
   ]
  },
  {
   "cell_type": "markdown",
   "metadata": {},
   "source": [
    "## B.5. 可调节参数"
   ]
  },
  {
   "cell_type": "code",
   "execution_count": 75,
   "metadata": {},
   "outputs": [],
   "source": [
    "readnoise=5.5\n",
    "fovp=3.2\n",
    "npixel_width=5.0\n",
    "obstime=300\n",
    "repeatnum=20.0\n",
    "skyr=21.0\n",
    "qinput=0.05\n",
    "specsample=1.0\n",
    "snlimit=10.0"
   ]
  },
  {
   "cell_type": "markdown",
   "metadata": {},
   "source": [
    "## B.6.不可调节参数"
   ]
  },
  {
   "cell_type": "code",
   "execution_count": 76,
   "metadata": {},
   "outputs": [
    {
     "name": "stdout",
     "output_type": "stream",
     "text": [
      "readnoise: 5.5\n",
      "npixel_width: 5.0\n",
      "obstime: 300\n",
      "repeatnum: 20.0\n",
      "skyv: 21.0\n"
     ]
    }
   ],
   "source": [
    "#some basic unchanged parameters     \n",
    "d=240        # diameter of the telescope, in cm unit\n",
    "obscure=0.1  #effective central obscuration, no unit\n",
    "telarea=3.14159/4.0*d*d*(1.0-obscure)  #effective area of the telescope, cm^2\n",
    "darkc=0.017   #dark current, in e/s/pix\n",
    "planckh=6.626    # 10^{-27} erg*s\n",
    "cc=3.0   # speed of light, 10^{18} A/s\n",
    "#slitunit=0.074  # arcsec. the length of slit which conresponds to a pixel length on IFU CCD \n",
    "\n",
    "rn=readnoise  #read noise, in e/pix\n",
    "print('readnoise:', rn)\n",
    "\n",
    "npixw=npixel_width\n",
    "print('npixel_width:',npixw)\n",
    "\n",
    "obst=obstime  # in seconds, single integration time\n",
    "print('obstime:',obst)\n",
    "\n",
    "repn=repeatnum   # repeating time\n",
    "print('repeatnum:',repn)\n",
    "\n",
    "iskyr0=skyr  # in Johnson V mag/arcsec^2 unit\n",
    "print('skyv:', iskyr0)\n",
    "\n",
    "sampling=1.0\n",
    "#print('specsample:',sampling)\n",
    "\n",
    "delta_lambda=0.98\n"
   ]
  },
  {
   "cell_type": "markdown",
   "metadata": {},
   "source": [
    "## B.7. 其他参数"
   ]
  },
  {
   "cell_type": "code",
   "execution_count": 77,
   "metadata": {},
   "outputs": [
    {
     "name": "stdout",
     "output_type": "stream",
     "text": [
      "qinput: 0.05\n",
      "q: 0.005000000000000001\n",
      "fov2: 8.042470400000001\n"
     ]
    }
   ],
   "source": [
    "# some less basic parameters, may change, but not often\n",
    "\n",
    "#throughput=0.05\n",
    "#lambdaq=np.array(throughput[0])*10 # A\n",
    "qtot=0.1 #; throughput of the whole system,\n",
    "\n",
    "\n",
    "#;assuming the total throughput cannot reach the theory value, 0.3 is the upper limit. \n",
    "#qtot[qtot>=0.3]=0.3 \n",
    "\n",
    "qinput=qinput\n",
    "print('qinput:', qinput)\n",
    "\n",
    "q=qtot*qinput #*qe ;qtot of CSST already includes the CCD efficiency \n",
    "print('q:',q)\n",
    "\n",
    "fov2=((fovp)**2)*3.14159/4.0\n",
    "print('fov2:', fov2)             "
   ]
  },
  {
   "cell_type": "markdown",
   "metadata": {},
   "source": [
    "## B.8.天光计算"
   ]
  },
  {
   "cell_type": "code",
   "execution_count": 78,
   "metadata": {},
   "outputs": [
    {
     "name": "stdout",
     "output_type": "stream",
     "text": [
      "./../obs/filters/sdss_r0.par\n"
     ]
    }
   ],
   "source": [
    "resulte=filteraa('../obs/filters/sdss_r0.par')\n",
    "wavefilter=resulte[0]\n",
    "fluxfilter=resulte[1]\n",
    "vmin=resulte[2]\n",
    "vmax=resulte[3]\n",
    "filtereff=resulte[4]\n",
    "FWHMmin = resulte[5]\n",
    "FWHMmax = resulte[6]\n",
    "\n",
    "# select out the array of r band filter\n",
    "nar=int((10000-3500)/delta_lambda) \n",
    "wavearr1=3500+delta_lambda*np.float64(np.arange(nar))\n",
    "\n",
    "ii=np.logical_and(wavearr1 >= vmin, wavearr1 <= vmax)\n",
    "\n",
    "wavetmp2=wavearr1[ii]\n",
    "x=np.interp(wavetmp2,wavefilter,fluxfilter)\n",
    "integratef4=x*wavetmp2    \n",
    "integconst=simps(integratef4,wavetmp2) # int(lambda*Rlambda*dlambda)\n",
    "\n",
    "#####################\n",
    "\n",
    "#define r band sky brightness\n",
    "lambdar=filtereff   #in A\n",
    "\n",
    "#sky brightness corresponding to this sky magnitude\n",
    "iskyr0_jy=3631.0*10**(-iskyr0/2.5+3.0)  # sky flux in V in mJy/arcsec^2 unit\n",
    "iskyr0_nm=iskyr0_jy*3.0/(lambdar/100.0)**2 #sky flux in V in 10^(-12)erg/s/cm^2/A /arcsec^2 \n",
    "\n",
    "#readin the ground sky spectrum \n",
    "skybg_50=pd.read_csv('../obs/skybg_50_10.dat',sep='\\s+',header=None,skiprows=14)\n",
    "wavesky=np.array(skybg_50[0])*10 #in A\n",
    "fluxsky1=np.array(skybg_50[1])/10 #phot/s/A/arcsec^2/m^2\n",
    "fluxsky2=fluxsky1/wavesky*1.98 #change the sky flux unit to 10^(-12)erg/s/cm^2/A/arcsec^2\n",
    "\n",
    "\n",
    "#This fluxsky is in unit of phot/s/A/arcsec^2/m^2, to convert it to F_lambda/arcsec^2, \n",
    "#need to do fluxsky(phot/s/A/arcsec^2/m^2)*h(6.625*10^{-27}erg.s)*nu(1/s)*10{-4}(m^2/cm^2)\n",
    "#=fluxsky*c(3.0*10^{18}A/s)/lambda(A)*6.6*10{-31} erg/s/cm^2/A/arcsec^2\n",
    "#=fluxsky/lambda*1.98*10^{-12}erg/s/cm^2/A/arcsec^2 \n",
    "\n",
    "#find out the normalization of the sky,\n",
    "ii=np.logical_and(wavesky >= vmin, wavesky <= vmax)\n",
    "wavetmp=wavesky[ii]\n",
    "fluxtmp=fluxsky1[ii]\n",
    "\n",
    "x=np.interp(wavetmp,wavefilter,fluxfilter)\n",
    "vfluxtmp=x*fluxtmp*1.98  #bandpass*lambda*F_sky_lambda(fluxsky2)=bandpass*fluxsky*1.98\n",
    "skyintegrate=simps( vfluxtmp ,wavetmp)\n",
    "skynorm=iskyr0_nm*integconst/skyintegrate \n",
    "fluxsky3=np.interp(wavearr1,wavesky,fluxsky2)\n",
    "fluxsky4=fluxsky3*skynorm   \n",
    "# get the sky spectrum in wavearr grid, the unit should now be the same as fluxvega: 10^(-12) erg/s/A/cm^2/arcsec^2 \n",
    "\n",
    "#fluxskypp=np.interp(wavearr,wavearr1,fluxsky4)                \n",
    "fluxskypp=fluxsky4\n"
   ]
  },
  {
   "cell_type": "markdown",
   "metadata": {},
   "source": [
    "## B.9.生成噪声"
   ]
  },
  {
   "cell_type": "code",
   "execution_count": 79,
   "metadata": {},
   "outputs": [],
   "source": [
    "#define observation information, parameters constantly change\n",
    "\n",
    "narray=len(wavearr1)\n",
    "snarray=np.zeros(narray)\n",
    "mockgal=np.zeros(narray)\n",
    "expf2=np.zeros(narray)\n",
    "tmp=np.zeros(narray)\n",
    "tot_noise1=np.zeros(narray*2).reshape(narray,2)\n",
    "sc_noise1=np.zeros(narray*2).reshape(narray,2)\n",
    "sys_noise1=np.zeros(narray*2).reshape(narray,2)\n",
    "readnoise1=np.zeros(narray*2).reshape(narray,2)\n",
    "dark_noise1=np.zeros(narray*2).reshape(narray,2)\n",
    "sky_noise1=np.zeros(narray*2).reshape(narray,2)\n",
    "\n",
    "for i in range(narray):\n",
    "    lambda0=wavearr1[i]\n",
    "    qlambda=q\n",
    "    hv=planckh*cc/lambda0 #;10^{-9}erg\n",
    "    delta_hz=cc*delta_lambda/lambda0/lambda0 #;10^18 1/s\n",
    "    delta_shz=delta_hz*sampling\n",
    "\n",
    "    #now that many fluxes are in 10^(-12)erg/s/A/cm^2/arcsec^2 , to convert it to Jy, need to multiple: \n",
    "    #lambda0^2/c(in A)=lambda0^2(A)/(3.*10^(18))*10^(-12)erg/s/Hz/cm^2\n",
    "    #=lambda^2(A)*3.33*10^(-31)erg/s/Hz/cm^2=lambda^2(A)*3.33*10^(-8)Jy\n",
    "    #=lambda^2(A)*0.0333uJy/arcsec^2 \n",
    "\n",
    "    #find out sky value at lambda0    \n",
    "    #calculate n_sky/pixel\n",
    "    isky=fluxskypp[i]*lambda0**2*0.0333*fov2   #in uJy/spaxel unit\n",
    "    iskyall=isky*telarea/1000.0   #in 10-26 erg/s/Hz /spaxel\n",
    "    fsky=qlambda*iskyall*delta_hz   #10^{-8} erg/s /spaxel\n",
    "    fsky=fsky*sampling\n",
    "    nsky=fsky/hv*10.0   #in unit of #e/s /spaxel\n",
    "\n",
    "    #calculate n_source/pixel\n",
    "    isource=galflux[i]*lambda0**2*0.0333*fov2   #in uJy/spaxel unit\n",
    "    isall=isource*telarea/1000.0   #in 10-26 erg/s/Hz /spaxel\n",
    "    fs=qlambda*isall*delta_hz   #10^{-8} erg/s /spaxel\n",
    "    fs=fs*sampling\n",
    "    ns=fs/hv*10.0   #in unit of #e/s /spaxel\n",
    "\n",
    "    darkn=(darkc*repn*obst*npixw*sampling)\n",
    "    rnn2=rn**2*(repn*npixw*sampling)\n",
    "    sourcenn=(ns*repn*obst)\n",
    "    skynn=(nsky*repn*obst)\n",
    "    tmp[i]=skynn\n",
    "\n",
    "    nn1=np.sqrt(rnn2+darkn+skynn+sourcenn)  #total noise\n",
    "    sn1=repn*ns*obst/nn1  #S/N\n",
    "    snarray[i]=sn1\n",
    "    nn=np.sqrt(rnn2+darkn+skynn)  #system noise\n",
    "\n",
    "\n",
    "    mockgal[i]=(galflux[i]+galflux[i]/snarray[i]*np.random.randn(1,1)[0][0])*fov2  #in 10^{-12} erg/s/A/cm^2\n",
    "\n",
    "    #in [i,0]-->e/s [i:1]-->10^{-12} erg/s/A/cm^2\n",
    "    tot_noise1[i,0]=nn1\n",
    "    tot_noise1[i,1]=(nn1/10*hv/sampling/delta_hz/qlambda/telarea*1000/lambda0**2/0.0333)/repn/obst\n",
    "    \n",
    "    sc_noise1[i,0]=np.sqrt(sourcenn)\n",
    "    sc_noise1[i,1]=(np.sqrt(sourcenn)/10*hv/sampling/delta_hz/qlambda/telarea*1000/lambda0**2/0.0333)/repn/obst\n",
    "    \n",
    "    sys_noise1[i,0]=nn\n",
    "    sys_noise1[i,1]=(nn/10*hv/sampling/delta_hz/qlambda/telarea*1000/lambda0**2/0.0333)/repn/obst\n",
    "    \n",
    "    readnoise1[i,0]=np.sqrt(rnn2)\n",
    "    readnoise1[i,1]=(np.sqrt(rnn2)/10*hv/sampling/delta_hz/qlambda/telarea*1000/lambda0**2/0.0333)/repn/obst\n",
    "    \n",
    "    dark_noise1[i,0]=np.sqrt(darkn)\n",
    "    dark_noise1[i,1]=(np.sqrt(darkn)/10*hv/sampling/delta_hz/qlambda/telarea*1000/lambda0**2/0.0333)/repn/obst\n",
    "    \n",
    "    sky_noise1[i,0]=np.sqrt(skynn)\n",
    "    sky_noise1[i,1]=(np.sqrt(skynn)/10*hv/sampling/delta_hz/qlambda/telarea*1000/lambda0**2/0.0333)/repn/obst\n",
    "\n",
    "    #set the detection limit \n",
    "    detlimit=snlimit\n",
    "\n",
    "    nntmp=detlimit**2+np.sqrt(detlimit**4+4.0*detlimit**2*nn**2)\n",
    "    nntmp=nntmp/2.0            \n",
    "    #calculate detection limit in uJy and mag\n",
    "    fnn=nntmp\n",
    "    f1=fnn/obst/repn    #in e/s\n",
    "    f2=f1*hv       #in 10^{-9} erg/s\n",
    "    f3=f2/delta_lambda #in 10^{-9} erg/s/A\n",
    "    f1=f3/telarea #in 10^{-9} erg/s/A/cm^2\n",
    "    f2=f1/qlambda    #in 10^{-9} erg/s/A/cm^2\n",
    "    expf2[i]=f2/fov2*100000.   # in 10^{-14} erg/s/A/cm^2/arcsec^2"
   ]
  },
  {
   "cell_type": "code",
   "execution_count": 80,
   "metadata": {},
   "outputs": [],
   "source": [
    "def proda(aaa,bbb):\n",
    "\n",
    "    bbb=np.zeros(len(wavearr)*2).reshape(len(wavearr),2)\n",
    "    bbb[:,0]=np.interp(wavearr,wavearr1,aaa[:,0]) \n",
    "    bbb[:,1]=np.interp(wavearr,wavearr1,aaa[:,1])\n",
    "    \n",
    "    return bbb"
   ]
  },
  {
   "cell_type": "code",
   "execution_count": 81,
   "metadata": {},
   "outputs": [],
   "source": [
    "lambda1=wavearr\n",
    "snarray=np.interp(wavearr,wavearr1,snarray)\n",
    "galflux=(np.interp(wavearr,wavearr1,galflux))*fov2 \n",
    "tot_noise=proda(tot_noise1,tot_noise)\n",
    "sc_noise=proda(sc_noise1,sc_noise)           \n",
    "sys_noise=proda(sys_noise1,sys_noise)\n",
    "readnoise=proda(readnoise1,readnoise)\n",
    "dark_noise=proda(dark_noise1,dark_noise)\n",
    "sky_noise=proda(sky_noise1,sky_noise)\n",
    "mockgal=np.interp(wavearr,wavearr1,mockgal) "
   ]
  },
  {
   "cell_type": "code",
   "execution_count": 82,
   "metadata": {},
   "outputs": [
    {
     "data": {
      "text/plain": [
       "[<matplotlib.lines.Line2D at 0x7effbd620510>]"
      ]
     },
     "execution_count": 82,
     "metadata": {},
     "output_type": "execute_result"
    },
    {
     "data": {
      "image/png": "[encoded data removed]",
      "text/plain": [
       "<Figure size 432x288 with 1 Axes>"
      ]
     },
     "metadata": {
      "needs_background": "light"
     },
     "output_type": "display_data"
    }
   ],
   "source": [
    "plt.plot(wavearr,mockgal)\n",
    "plt.plot(wavearr,galflux)"
   ]
  },
  {
   "cell_type": "code",
   "execution_count": 83,
   "metadata": {},
   "outputs": [
    {
     "data": {
      "text/plain": [
       "(2050, 2)"
      ]
     },
     "execution_count": 83,
     "metadata": {},
     "output_type": "execute_result"
    }
   ],
   "source": [
    "tot_noise.shape"
   ]
  },
  {
   "cell_type": "code",
   "execution_count": null,
   "metadata": {},
   "outputs": [],
   "source": [
    "filename='../results/crab_30020_blue.fits'\n",
    "# write file\n",
    "unit=np.array(['A', ' ','1E-12 erg/s/cm^2/A',\\\n",
    "               'e/s & 1E-12 erg/s/cm^2/A','e/s & 1E-12 erg/s/cm^2/A','e/s & 1E-12 erg/s/cm^2/A',\\\n",
    "               'e/s & 1E-12 erg/s/cm^2/A','e/s & 1E-12 erg/s/cm^2/A','e/s & 1E-12 erg/s/cm^2/A', \\\n",
    "               '1E-12 erg/s/cm^2/A'])\n",
    "\n",
    "hdr=fits.Header()\n",
    "for i in range(len(unit)):\n",
    "    hdr[str(i)]=unit[i]\n",
    "hun1=fits.PrimaryHDU(header=hdr)\n",
    "hun2=fits.ImageHDU(wavearr,name='lambda')\n",
    "hun3=fits.ImageHDU(snarray,name='S/N')\n",
    "hun4=fits.ImageHDU(galflux,name='tar_flux')\n",
    "hun5=fits.ImageHDU(tot_noise,name='tot_noise')\n",
    "hun6=fits.ImageHDU(sc_noise,name='sc_noise')\n",
    "hun7=fits.ImageHDU(sys_noise,name='sys_noise')\n",
    "hun8=fits.ImageHDU(readnoise,name='readnoise')\n",
    "hun9=fits.ImageHDU(dark_noise,name='dark_noise')\n",
    "hun10=fits.ImageHDU(sky_noise,name='sky_noise')\n",
    "hun11=fits.ImageHDU(mockgal,name='mockgal')\n",
    "hdulist = fits.HDUList([hun1,hun2,hun3,hun4,hun5,hun6,hun7,hun8,hun9,hun10,hun11])\n",
    "\n",
    "print('output filt:',filename)\n",
    "hdulist.writeto('./'+filename)"
   ]
  }
 ],
 "metadata": {
  "kernelspec": {
   "display_name": "Python 3",
   "language": "python",
   "name": "python3"
  },
  "language_info": {
   "codemirror_mode": {
    "name": "ipython",
    "version": 3
   },
   "file_extension": ".py",
   "mimetype": "text/x-python",
   "name": "python",
   "nbconvert_exporter": "python",
   "pygments_lexer": "ipython3",
   "version": "3.7.4"
  }
 },
 "nbformat": 4,
 "nbformat_minor": 2
}
