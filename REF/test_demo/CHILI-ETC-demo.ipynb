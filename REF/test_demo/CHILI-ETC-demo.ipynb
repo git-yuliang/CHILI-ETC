{
 "cells": [
  {
   "cell_type": "code",
   "execution_count": 1,
   "id": "7a36c598",
   "metadata": {},
   "outputs": [],
   "source": [
    "from ifs_etc.etc2d.config import build_default_source\n",
    "from ifs_etc.etc1d.perform_calculation import perform_calculation"
   ]
  },
  {
   "cell_type": "code",
   "execution_count": 2,
   "id": "0ebc53b9",
   "metadata": {},
   "outputs": [
    {
     "name": "stdout",
     "output_type": "stream",
     "text": [
      "[3.1210689  3.16526209 3.20073055 ... 2.87464531 2.86900359 2.86689038]\n"
     ]
    }
   ],
   "source": [
    "from chili_etc.sp.chili_config import build_default_calc\n",
    "from chili_etc.sp.chili_perform_calculation import perform_calculation\n",
    "chili_config = build_default_calc()\n",
    "report = perform_calculation(chili_config)\n",
    "print(report.snr)"
   ]
  },
  {
   "cell_type": "code",
   "execution_count": 5,
   "id": "db8ed78c",
   "metadata": {
    "scrolled": true
   },
   "outputs": [
    {
     "name": "stdout",
     "output_type": "stream",
     "text": [
      "[0.92843857 0.94174381 0.95242538 ... 0.85432544 0.85263026 0.85199531]\n"
     ]
    }
   ],
   "source": [
    "chili_config = build_default_calc()\n",
    "chili_config['obst'] = 300\n",
    "chili_config['repn'] = 3\n",
    "chili_config['source']['normalization']['value'] = 18.0\n",
    "#chili_config['source']['spectrum']['name'] = 'SFgal_texp_FeH-2_tau10_Ew200.fits'\n",
    "report = perform_calculation(chili_config)\n",
    "print(report.snr)\n",
    "#print('chili_config['source']['spectrum']['name']  = ',chili_config['source']['spectrum']['name'] )"
   ]
  },
  {
   "cell_type": "code",
   "execution_count": 6,
   "id": "e44544f3",
   "metadata": {},
   "outputs": [
    {
     "name": "stdout",
     "output_type": "stream",
     "text": [
      "(3703,)\n"
     ]
    },
    {
     "data": {
      "text/plain": [
       "[<matplotlib.lines.Line2D at 0x1ea621c0808>]"
      ]
     },
     "execution_count": 6,
     "metadata": {},
     "output_type": "execute_result"
    },
    {
     "data": {
      "image/png": "[encoded data removed]",
      "text/plain": [
       "<Figure size 432x288 with 1 Axes>"
      ]
     },
     "metadata": {
      "needs_background": "light"
     },
     "output_type": "display_data"
    }
   ],
   "source": [
    "import matplotlib.pyplot as plt\n",
    "#plt.plot(report.snr)\n",
    "snrs = report.snr\n",
    "print(snrs.shape)\n",
    "plt.plot(snrs)"
   ]
  },
  {
   "cell_type": "code",
   "execution_count": 7,
   "id": "7c187c93",
   "metadata": {},
   "outputs": [
    {
     "name": "stdout",
     "output_type": "stream",
     "text": [
      "XTENSION= 'BINTABLE'           / binary table extension                         BITPIX  =                    8 / array data type                                NAXIS   =                    2 / number of array dimensions                     NAXIS1  =                   16 / length of dimension 1                          NAXIS2  =                 5564 / length of dimension 2                          PCOUNT  =                    0 / number of group parameters                     GCOUNT  =                    1 / number of groups                               TFIELDS =                    4 / number of table fields                         TTYPE1  = 'WAVELENGTH'                                                          TFORM1  = 'E       '                                                            TUNIT1  = 'angstrom'                                                            TTYPE2  = 'FLUX    '                                                            TFORM2  = 'E       '                                                            TUNIT2  = 'flam    '                                                            TTYPE3  = 'STELLAR '                                                            TFORM3  = 'E       '                                                            TTYPE4  = 'GAS     '                                                            TFORM4  = 'E       '                                                            END                                                                                                                                                                                                                                                                                                                                                                                                                                                                                                                                                                                                                                                                                                                                                                                                                                                                                                                                                                                                                                                                                                                                                                                                                                                                                                                                                                                                                                                                                             \n"
     ]
    }
   ],
   "source": [
    "from astropy.io import fits\n",
    "def openfits(b):\n",
    "    hdu_list = fits.open(b)\n",
    "    hdu_list.info()\n",
    "    image_data = hdu_list[0].data\n",
    "    plt.imshow(image_data, cmap='gray')\n",
    "    plt.colorbar()\n",
    "    plt.show()\n",
    "hdu = fits.open(r\"C:\\Users\\DELL\\Anaconda3\\Lib\\site-packages\\chili_etc\\refdata\\sed\\SFgal_texp_FeH0_tau5_Ew10_AGN1.fits\")\n",
    "print(hdu[1].header)\n",
    "imagn = hdu[1].data"
   ]
  },
  {
   "cell_type": "code",
   "execution_count": 8,
   "id": "ccde3378",
   "metadata": {},
   "outputs": [
    {
     "name": "stdout",
     "output_type": "stream",
     "text": [
      "(5564,)\n"
     ]
    }
   ],
   "source": [
    "print(imagn.shape)\n",
    "template_wave = hdu[1].data['wavelength']\n",
    "template_flux = hdu[1].data['flux'] * 1e-12"
   ]
  },
  {
   "cell_type": "code",
   "execution_count": 9,
   "id": "fc20a823",
   "metadata": {},
   "outputs": [
    {
     "data": {
      "text/plain": [
       "[<matplotlib.lines.Line2D at 0x1ea62294408>]"
      ]
     },
     "execution_count": 9,
     "metadata": {},
     "output_type": "execute_result"
    },
    {
     "data": {
      "image/png": "[encoded data removed]",
      "text/plain": [
       "<Figure size 432x288 with 1 Axes>"
      ]
     },
     "metadata": {
      "needs_background": "light"
     },
     "output_type": "display_data"
    }
   ],
   "source": [
    "plt.plot(template_wave,template_flux)"
   ]
  },
  {
   "cell_type": "code",
   "execution_count": 10,
   "id": "bbe20574",
   "metadata": {},
   "outputs": [
    {
     "ename": "NameError",
     "evalue": "name 'config' is not defined",
     "output_type": "error",
     "traceback": [
      "\u001b[1;31m---------------------------------------------------------------------------\u001b[0m",
      "\u001b[1;31mNameError\u001b[0m                                 Traceback (most recent call last)",
      "\u001b[1;32m~\\AppData\\Local\\Temp\\ipykernel_14536\\1295525374.py\u001b[0m in \u001b[0;36m<module>\u001b[1;34m\u001b[0m\n\u001b[1;32m----> 1\u001b[1;33m \u001b[0mreport\u001b[0m \u001b[1;33m=\u001b[0m \u001b[0mperform_calculation\u001b[0m\u001b[1;33m(\u001b[0m\u001b[0mchili_config\u001b[0m\u001b[1;33m,\u001b[0m \u001b[0mcalculation_mode\u001b[0m\u001b[1;33m=\u001b[0m\u001b[1;34m'snr2exptime'\u001b[0m\u001b[1;33m)\u001b[0m\u001b[1;33m\u001b[0m\u001b[1;33m\u001b[0m\u001b[0m\n\u001b[0m\u001b[0;32m      2\u001b[0m \u001b[0mprint\u001b[0m\u001b[1;33m(\u001b[0m\u001b[0mreport\u001b[0m\u001b[1;33m.\u001b[0m\u001b[0mexptime\u001b[0m\u001b[1;33m)\u001b[0m\u001b[1;33m\u001b[0m\u001b[1;33m\u001b[0m\u001b[0m\n",
      "\u001b[1;32m~\\Anaconda3\\lib\\site-packages\\chili_etc\\sp\\chili_perform_calculation.py\u001b[0m in \u001b[0;36mperform_calculation\u001b[1;34m(chili_config, calculation_mode)\u001b[0m\n\u001b[0;32m    490\u001b[0m     \u001b[1;32melif\u001b[0m \u001b[0mcalculation_mode\u001b[0m \u001b[1;33m==\u001b[0m \u001b[1;34m'snr2exptime'\u001b[0m\u001b[1;33m:\u001b[0m\u001b[1;33m\u001b[0m\u001b[1;33m\u001b[0m\u001b[0m\n\u001b[0;32m    491\u001b[0m \u001b[1;33m\u001b[0m\u001b[0m\n\u001b[1;32m--> 492\u001b[1;33m         \u001b[0mreport\u001b[0m \u001b[1;33m=\u001b[0m \u001b[0mcalculation_exptime\u001b[0m\u001b[1;33m(\u001b[0m\u001b[0mchili_config\u001b[0m\u001b[1;33m)\u001b[0m\u001b[1;33m\u001b[0m\u001b[1;33m\u001b[0m\u001b[0m\n\u001b[0m\u001b[0;32m    493\u001b[0m \u001b[1;33m\u001b[0m\u001b[0m\n\u001b[0;32m    494\u001b[0m     \u001b[1;32melif\u001b[0m \u001b[0mcalculation_mode\u001b[0m \u001b[1;33m==\u001b[0m \u001b[1;34m'snr2limitmag'\u001b[0m\u001b[1;33m:\u001b[0m\u001b[1;33m\u001b[0m\u001b[1;33m\u001b[0m\u001b[0m\n",
      "\u001b[1;32m~\\Anaconda3\\lib\\site-packages\\chili_etc\\sp\\chili_perform_calculation.py\u001b[0m in \u001b[0;36m__init__\u001b[1;34m(self, chili_config, straylight)\u001b[0m\n\u001b[0;32m    473\u001b[0m             \u001b[0mobst_arr\u001b[0m \u001b[1;33m=\u001b[0m \u001b[1;33m(\u001b[0m\u001b[1;33m-\u001b[0m\u001b[0mcoeff_t1\u001b[0m \u001b[1;33m+\u001b[0m \u001b[0mnp\u001b[0m\u001b[1;33m.\u001b[0m\u001b[0msqrt\u001b[0m\u001b[1;33m(\u001b[0m\u001b[0mcoeff_t1\u001b[0m \u001b[1;33m**\u001b[0m \u001b[1;36m2\u001b[0m \u001b[1;33m-\u001b[0m \u001b[1;36m4\u001b[0m \u001b[1;33m*\u001b[0m \u001b[0mcoeff_t2\u001b[0m \u001b[1;33m*\u001b[0m \u001b[0mcoeff_t0\u001b[0m\u001b[1;33m)\u001b[0m\u001b[1;33m)\u001b[0m \u001b[1;33m/\u001b[0m \u001b[1;33m(\u001b[0m\u001b[1;36m2\u001b[0m \u001b[1;33m*\u001b[0m \u001b[0mcoeff_t2\u001b[0m\u001b[1;33m)\u001b[0m\u001b[1;33m\u001b[0m\u001b[1;33m\u001b[0m\u001b[0m\n\u001b[0;32m    474\u001b[0m \u001b[1;33m\u001b[0m\u001b[0m\n\u001b[1;32m--> 475\u001b[1;33m             \u001b[0mfilter\u001b[0m \u001b[1;33m=\u001b[0m \u001b[0mread_filter\u001b[0m\u001b[1;33m(\u001b[0m\u001b[0mconfig\u001b[0m\u001b[1;33m[\u001b[0m\u001b[1;34m'source'\u001b[0m\u001b[1;33m]\u001b[0m\u001b[1;33m[\u001b[0m\u001b[1;34m'normalization'\u001b[0m\u001b[1;33m]\u001b[0m\u001b[1;33m[\u001b[0m\u001b[1;34m'band'\u001b[0m\u001b[1;33m]\u001b[0m\u001b[1;33m)\u001b[0m\u001b[1;33m\u001b[0m\u001b[1;33m\u001b[0m\u001b[0m\n\u001b[0m\u001b[0;32m    476\u001b[0m             \u001b[0mind_filter\u001b[0m \u001b[1;33m=\u001b[0m \u001b[1;33m(\u001b[0m\u001b[0mccdspec_wave\u001b[0m \u001b[1;33m>=\u001b[0m \u001b[0mfilter\u001b[0m\u001b[1;33m.\u001b[0m\u001b[0mwavemin\u001b[0m\u001b[1;33m)\u001b[0m \u001b[1;33m&\u001b[0m \u001b[1;33m(\u001b[0m\u001b[0mccdspec_wave\u001b[0m \u001b[1;33m<=\u001b[0m \u001b[0mfilter\u001b[0m\u001b[1;33m.\u001b[0m\u001b[0mwavemax\u001b[0m\u001b[1;33m)\u001b[0m\u001b[1;33m\u001b[0m\u001b[1;33m\u001b[0m\u001b[0m\n\u001b[0;32m    477\u001b[0m             \u001b[0mtmp_obst\u001b[0m \u001b[1;33m=\u001b[0m \u001b[0mnp\u001b[0m\u001b[1;33m.\u001b[0m\u001b[0mmedian\u001b[0m\u001b[1;33m(\u001b[0m\u001b[0mobst_arr\u001b[0m\u001b[1;33m[\u001b[0m\u001b[0mind_filter\u001b[0m\u001b[1;33m]\u001b[0m\u001b[1;33m)\u001b[0m\u001b[1;33m\u001b[0m\u001b[1;33m\u001b[0m\u001b[0m\n",
      "\u001b[1;31mNameError\u001b[0m: name 'config' is not defined"
     ]
    }
   ],
   "source": [
    "\n",
    "report = perform_calculation(chili_config, calculation_mode='snr2exptime')\n",
    "print(report.exptime)"
   ]
  },
  {
   "cell_type": "code",
   "execution_count": null,
   "id": "7077848e",
   "metadata": {},
   "outputs": [],
   "source": [
    "report = perform_calculation(config, calculation_mode='exptime2snr')\n",
    "print(report.snr)\n",
    "plt.plot(report.snr)"
   ]
  },
  {
   "cell_type": "code",
   "execution_count": null,
   "id": "83ced95a",
   "metadata": {},
   "outputs": [],
   "source": [
    "report = perform_calculation(config, calculation_mode='snr2limitmag')\n",
    "print(report.limitmag)"
   ]
  },
  {
   "cell_type": "code",
   "execution_count": null,
   "id": "cb693e75",
   "metadata": {},
   "outputs": [],
   "source": [
    "config = build_default_calc()\n",
    "config['targetsnr'] = 10\n",
    "config['obst'] = 300\n",
    "config['source']['normalization']['value'] = 18.0\n",
    "config['source']['spectrum']['name'] = 'SFgal_texp_FeH0_tau1_Ewd.fits'\n",
    "report = perform_calculation(config, calculation_mode='snr2exptime')\n",
    "print(report.exptime)"
   ]
  },
  {
   "cell_type": "code",
   "execution_count": 11,
   "id": "a622231f",
   "metadata": {},
   "outputs": [],
   "source": [
    "# # https://ifs-etc.readthedocs.io/en/latest/quickstart.html\n",
    "\n",
    "# from ifs_etc.etc2d.ifs_etc import build_input_para\n",
    "# config = build_input_para()\n",
    "\n",
    "# #####################################################\n",
    "# IFS Exposure Time Calculator              #\n",
    "# (Use default value when press enter and no input)  #\n",
    "# #####################################################\n",
    "\n",
    "# 1. Spectral Resolution: 3.5 Angstrom per 2 pixels (fixed)\n",
    "# Spectral coverage: 3500-10000 A\n",
    "\n",
    "# 2. CCD parameters:\n",
    "# 1. Dispersion axis binning: 1 pixel\n",
    "# 2. Spatial axis binning: 1 pixel\n",
    "# 3. Gain: 1 e-/ADU\n",
    "# 4. Dark: 0.017 e-/s/pixel\n",
    "# Reset the parameters or use the default value? (r|d): d\n",
    "# Use the default CCD parameters.\n",
    "\n",
    "# 3. Specify the calculation mode:\n",
    "# 1. How many visits needed to obtain a certain SNR.\n",
    "# 2. SNR reached in certain visits.\n",
    "# (Set the exposure time = 300 seconds per visit.)\n",
    "# which calculation mode (default = 1): 1\n",
    "# The target SNR is (default = 20): 20\n",
    "# Calculate the visits to obtain SNR = 20.0.\n",
    "\n",
    "# 4. Define the source (position, shape, spectrum, brightness).\n",
    "# How many sources to be considered (default = 1): 1\n",
    "# Set the parameters for each source.\n",
    "# 4. (1/5) Select the source type for source-1:\n",
    "# 1. point source\n",
    "# 2. extended source\n",
    "# Enter the index (default = 1): 1\n",
    "# 4. (2/5) Set the center position for source-1:\n",
    "# Enter the x-offset [arcsec] (default = 0.0): 0.2\n",
    "# Enter the y-offset [arcsec] (default = 0.0): 0.2\n",
    "# 4. (3/5) Point source is set to have PSF shape with FWHM = 0.2\".\n",
    "# 4. (4/5) Choose a spectrum for the source-1:\n",
    "# 1. Elliptical galaxy (bc03_FeH0_tau1_Ewd)\n",
    "# 2. Spiral galaxy (bc03_FeH0_tau5_Ew5)\n",
    "# 3. Starburst galaxy (bc03_FeH-2_tau10_Ew50)\n",
    "# 4. AGN (FeH0_tau5_Ew10_AGN)\n",
    "# 5. upload spectrum file [text format only, with two-columns: wavelength in A and flux in erg/s/cm^2/A]\n",
    "# Enter the choise (default = 1): 1\n",
    "# Enter the redshift (default = 0.0): 0.0\n",
    "# Enter the E(B-V) (default = 0.0): 0.1\n",
    "# 4. (5/5) Select the normalization type for source-1:\n",
    "# 1. Normalized at certain wavelength.\n",
    "# 2. Normalized at certain filter.\n",
    "# Select the normalization type (default = 2): 2\n",
    "# Filters: 1. sdss-u, 2. sdss-g, 3. sdss-r, 4. sdss-i, 5. sdss-z.\n",
    "# Select the normalized filter (default = 2): 2\n",
    "# Normalization unit: [add arcsec^-2 for extended source].\n",
    "# 1. AB magnitude\n",
    "# 2. erg/s/cm^2/A\n",
    "# 3. erg/s/cm^2/Hz\n",
    "# Select the normalization unit (default = 1): 1\n",
    "# Enter the normalization value (default = 17.7): 17.7\n",
    "\n",
    "# 5. Specify the background level:\n",
    "# Zodiacal level: 1. low, 2. median, 3. high.\n",
    "# Enter the choice (default = 2): 2\n",
    "# Earth shine level: 1. low, 2. median, 3. high.\n",
    "# Enter the choice (default = 2): 2"
   ]
  },
  {
   "cell_type": "code",
   "execution_count": null,
   "id": "af808459",
   "metadata": {},
   "outputs": [],
   "source": []
  }
 ],
 "metadata": {
  "kernelspec": {
   "display_name": "Python 3 (ipykernel)",
   "language": "python",
   "name": "python3"
  },
  "language_info": {
   "codemirror_mode": {
    "name": "ipython",
    "version": 3
   },
   "file_extension": ".py",
   "mimetype": "text/x-python",
   "name": "python",
   "nbconvert_exporter": "python",
   "pygments_lexer": "ipython3",
   "version": "3.7.13"
  }
 },
 "nbformat": 4,
 "nbformat_minor": 5
}
