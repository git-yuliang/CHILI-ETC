{
 "cells": [
  {
   "cell_type": "code",
   "execution_count": 1,
   "id": "0ebc53b9",
   "metadata": {},
   "outputs": [],
   "source": [
    "from ifs_etc.etc1d.config import build_default_calc\n",
    "from ifs_etc.etc1d.perform_calculation import perform_calculation"
   ]
  },
  {
   "cell_type": "code",
   "execution_count": 2,
   "id": "db8ed78c",
   "metadata": {},
   "outputs": [
    {
     "name": "stdout",
     "output_type": "stream",
     "text": [
      "[0.92820404 0.94150313 0.9521791  ... 0.85358403 0.85189378 0.85126291]\n"
     ]
    }
   ],
   "source": [
    "config = build_default_calc()\n",
    "config['obst'] = 300\n",
    "config['repn'] = 3\n",
    "config['source']['normalization']['value'] = 18.0\n",
    "config['source']['spectrum']['name'] = 'SFgal_texp_FeH0_tau5_Ew10_AGN1.fits'\n",
    "report = perform_calculation(config)\n",
    "print(report.snr)"
   ]
  },
  {
   "cell_type": "code",
   "execution_count": 3,
   "id": "cb693e75",
   "metadata": {},
   "outputs": [
    {
     "name": "stdout",
     "output_type": "stream",
     "text": [
      "6973.168043364348\n"
     ]
    }
   ],
   "source": [
    "config = build_default_calc()\n",
    "config['targetsnr'] = 10\n",
    "config['obst'] = 300\n",
    "config['source']['normalization']['value'] = 18.0\n",
    "config['source']['spectrum']['name'] = 'SFgal_texp_FeH0_tau1_Ewd.fits'\n",
    "report = perform_calculation(config, calculation_mode='snr2exptime')\n",
    "print(report.exptime)"
   ]
  },
  {
   "cell_type": "code",
   "execution_count": null,
   "id": "7a36c598",
   "metadata": {},
   "outputs": [],
   "source": []
  }
 ],
 "metadata": {
  "kernelspec": {
   "display_name": "Python 3 (ipykernel)",
   "language": "python",
   "name": "python3"
  },
  "language_info": {
   "codemirror_mode": {
    "name": "ipython",
    "version": 3
   },
   "file_extension": ".py",
   "mimetype": "text/x-python",
   "name": "python",
   "nbconvert_exporter": "python",
   "pygments_lexer": "ipython3",
   "version": "3.7.13"
  }
 },
 "nbformat": 4,
 "nbformat_minor": 5
}
