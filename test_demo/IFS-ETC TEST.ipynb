{
 "cells": [
  {
   "cell_type": "code",
   "execution_count": 5,
   "id": "a622231f",
   "metadata": {},
   "outputs": [],
   "source": [
    "# # https://ifs-etc.readthedocs.io/en/latest/quickstart.html\n",
    "\n",
    "# from ifs_etc.etc2d.ifs_etc import build_input_para\n",
    "# config = build_input_para()\n",
    "\n",
    "# #####################################################\n",
    "# IFS Exposure Time Calculator              #\n",
    "# (Use default value when press enter and no input)  #\n",
    "# #####################################################\n",
    "\n",
    "# 1. Spectral Resolution: 3.5 Angstrom per 2 pixels (fixed)\n",
    "# Spectral coverage: 3500-10000 A\n",
    "\n",
    "# 2. CCD parameters:\n",
    "# 1. Dispersion axis binning: 1 pixel\n",
    "# 2. Spatial axis binning: 1 pixel\n",
    "# 3. Gain: 1 e-/ADU\n",
    "# 4. Dark: 0.017 e-/s/pixel\n",
    "# Reset the parameters or use the default value? (r|d): d\n",
    "# Use the default CCD parameters.\n",
    "\n",
    "# 3. Specify the calculation mode:\n",
    "# 1. How many visits needed to obtain a certain SNR.\n",
    "# 2. SNR reached in certain visits.\n",
    "# (Set the exposure time = 300 seconds per visit.)\n",
    "# which calculation mode (default = 1): 1\n",
    "# The target SNR is (default = 20): 20\n",
    "# Calculate the visits to obtain SNR = 20.0.\n",
    "\n",
    "# 4. Define the source (position, shape, spectrum, brightness).\n",
    "# How many sources to be considered (default = 1): 1\n",
    "# Set the parameters for each source.\n",
    "# 4. (1/5) Select the source type for source-1:\n",
    "# 1. point source\n",
    "# 2. extended source\n",
    "# Enter the index (default = 1): 1\n",
    "# 4. (2/5) Set the center position for source-1:\n",
    "# Enter the x-offset [arcsec] (default = 0.0): 0.2\n",
    "# Enter the y-offset [arcsec] (default = 0.0): 0.2\n",
    "# 4. (3/5) Point source is set to have PSF shape with FWHM = 0.2\".\n",
    "# 4. (4/5) Choose a spectrum for the source-1:\n",
    "# 1. Elliptical galaxy (bc03_FeH0_tau1_Ewd)\n",
    "# 2. Spiral galaxy (bc03_FeH0_tau5_Ew5)\n",
    "# 3. Starburst galaxy (bc03_FeH-2_tau10_Ew50)\n",
    "# 4. AGN (FeH0_tau5_Ew10_AGN)\n",
    "# 5. upload spectrum file [text format only, with two-columns: wavelength in A and flux in erg/s/cm^2/A]\n",
    "# Enter the choise (default = 1): 1\n",
    "# Enter the redshift (default = 0.0): 0.0\n",
    "# Enter the E(B-V) (default = 0.0): 0.1\n",
    "# 4. (5/5) Select the normalization type for source-1:\n",
    "# 1. Normalized at certain wavelength.\n",
    "# 2. Normalized at certain filter.\n",
    "# Select the normalization type (default = 2): 2\n",
    "# Filters: 1. sdss-u, 2. sdss-g, 3. sdss-r, 4. sdss-i, 5. sdss-z.\n",
    "# Select the normalized filter (default = 2): 2\n",
    "# Normalization unit: [add arcsec^-2 for extended source].\n",
    "# 1. AB magnitude\n",
    "# 2. erg/s/cm^2/A\n",
    "# 3. erg/s/cm^2/Hz\n",
    "# Select the normalization unit (default = 1): 1\n",
    "# Enter the normalization value (default = 17.7): 17.7\n",
    "\n",
    "# 5. Specify the background level:\n",
    "# Zodiacal level: 1. low, 2. median, 3. high.\n",
    "# Enter the choice (default = 2): 2\n",
    "# Earth shine level: 1. low, 2. median, 3. high.\n",
    "# Enter the choice (default = 2): 2"
   ]
  },
  {
   "cell_type": "code",
   "execution_count": 1,
   "id": "0ebc53b9",
   "metadata": {},
   "outputs": [],
   "source": [
    "from ifs_etc.etc1d.config import build_default_calc\n",
    "from ifs_etc.etc1d.perform_calculation import perform_calculation"
   ]
  },
  {
   "cell_type": "code",
   "execution_count": 2,
   "id": "db8ed78c",
   "metadata": {},
   "outputs": [
    {
     "name": "stdout",
     "output_type": "stream",
     "text": [
      "[0.92820404 0.94150313 0.9521791  ... 0.85358403 0.85189378 0.85126291]\n"
     ]
    }
   ],
   "source": [
    "config = build_default_calc()\n",
    "config['obst'] = 300\n",
    "config['repn'] = 3\n",
    "config['source']['normalization']['value'] = 18.0\n",
    "config['source']['spectrum']['name'] = 'SFgal_texp_FeH0_tau5_Ew10_AGN1.fits'\n",
    "report = perform_calculation(config)\n",
    "print(report.snr)"
   ]
  },
  {
   "cell_type": "code",
   "execution_count": 3,
   "id": "cb693e75",
   "metadata": {},
   "outputs": [
    {
     "name": "stdout",
     "output_type": "stream",
     "text": [
      "6973.168043364348\n"
     ]
    }
   ],
   "source": [
    "config = build_default_calc()\n",
    "config['targetsnr'] = 10\n",
    "config['obst'] = 300\n",
    "config['source']['normalization']['value'] = 18.0\n",
    "config['source']['spectrum']['name'] = 'SFgal_texp_FeH0_tau1_Ewd.fits'\n",
    "report = perform_calculation(config, calculation_mode='snr2exptime')\n",
    "print(report.exptime)"
   ]
  },
  {
   "cell_type": "code",
   "execution_count": null,
   "id": "7a36c598",
   "metadata": {},
   "outputs": [],
   "source": []
  }
 ],
 "metadata": {
  "kernelspec": {
   "display_name": "Python 3 (ipykernel)",
   "language": "python",
   "name": "python3"
  },
  "language_info": {
   "codemirror_mode": {
    "name": "ipython",
    "version": 3
   },
   "file_extension": ".py",
   "mimetype": "text/x-python",
   "name": "python",
   "nbconvert_exporter": "python",
   "pygments_lexer": "ipython3",
   "version": "3.7.13"
  }
 },
 "nbformat": 4,
 "nbformat_minor": 5
}
